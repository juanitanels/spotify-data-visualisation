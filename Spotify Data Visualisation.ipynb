{
 "cells": [
  {
   "cell_type": "markdown",
   "metadata": {},
   "source": [
    "# Spotify Data Visualisation Project\n",
    "\n",
    "Streaming Data from 16th Sep 2023 - 19th Feb 2024"
   ]
  },
  {
   "cell_type": "markdown",
   "metadata": {},
   "source": [
    "# Questions\n",
    "\n",
    "1. What day of the week are songs streamed the most?\n",
    "2. Users top 10 streamed songs?\n",
    "3. Users top 20 streamed artists?\n",
    "4. What time of day does the user listen to music the most?\n",
    "5. How many songs are on the user's playlists?"
   ]
  },
  {
   "cell_type": "code",
   "execution_count": 336,
   "metadata": {},
   "outputs": [],
   "source": [
    "import pandas as pd\n",
    "import matplotlib.pyplot as plt\n",
    "import numpy as np\n",
    "import seaborn as sns\n",
    "from datetime import date"
   ]
  },
  {
   "cell_type": "code",
   "execution_count": 337,
   "metadata": {},
   "outputs": [
    {
     "data": {
      "text/html": [
       "<div>\n",
       "<style scoped>\n",
       "    .dataframe tbody tr th:only-of-type {\n",
       "        vertical-align: middle;\n",
       "    }\n",
       "\n",
       "    .dataframe tbody tr th {\n",
       "        vertical-align: top;\n",
       "    }\n",
       "\n",
       "    .dataframe thead th {\n",
       "        text-align: right;\n",
       "    }\n",
       "</style>\n",
       "<table border=\"1\" class=\"dataframe\">\n",
       "  <thead>\n",
       "    <tr style=\"text-align: right;\">\n",
       "      <th></th>\n",
       "      <th>endTime</th>\n",
       "      <th>date</th>\n",
       "      <th>wkday</th>\n",
       "      <th>time</th>\n",
       "      <th>artistName</th>\n",
       "      <th>trackName</th>\n",
       "      <th>msPlayed</th>\n",
       "      <th>minsPlayed</th>\n",
       "      <th>includesong</th>\n",
       "    </tr>\n",
       "  </thead>\n",
       "  <tbody>\n",
       "    <tr>\n",
       "      <th>0</th>\n",
       "      <td>2023-09-16 21:48</td>\n",
       "      <td>2023-09-16</td>\n",
       "      <td>Sun</td>\n",
       "      <td>21:48</td>\n",
       "      <td>Drake</td>\n",
       "      <td>Pipe Down</td>\n",
       "      <td>205721</td>\n",
       "      <td>3.428683</td>\n",
       "      <td>Yes</td>\n",
       "    </tr>\n",
       "    <tr>\n",
       "      <th>1</th>\n",
       "      <td>2023-09-16 21:56</td>\n",
       "      <td>2023-09-16</td>\n",
       "      <td>Sun</td>\n",
       "      <td>21:56</td>\n",
       "      <td>Victoria Monét</td>\n",
       "      <td>Alright</td>\n",
       "      <td>69036</td>\n",
       "      <td>1.150600</td>\n",
       "      <td>Yes</td>\n",
       "    </tr>\n",
       "    <tr>\n",
       "      <th>2</th>\n",
       "      <td>2023-09-16 21:59</td>\n",
       "      <td>2023-09-16</td>\n",
       "      <td>Sun</td>\n",
       "      <td>21:59</td>\n",
       "      <td>Odeal</td>\n",
       "      <td>Repercussions</td>\n",
       "      <td>180714</td>\n",
       "      <td>3.011900</td>\n",
       "      <td>Yes</td>\n",
       "    </tr>\n",
       "    <tr>\n",
       "      <th>3</th>\n",
       "      <td>2023-09-16 22:01</td>\n",
       "      <td>2023-09-16</td>\n",
       "      <td>Sun</td>\n",
       "      <td>22:01</td>\n",
       "      <td>Fireboy DML</td>\n",
       "      <td>Bandana</td>\n",
       "      <td>133127</td>\n",
       "      <td>2.218783</td>\n",
       "      <td>Yes</td>\n",
       "    </tr>\n",
       "    <tr>\n",
       "      <th>4</th>\n",
       "      <td>2023-09-17 19:20</td>\n",
       "      <td>2023-09-17</td>\n",
       "      <td>Sun</td>\n",
       "      <td>19:20</td>\n",
       "      <td>21 Savage</td>\n",
       "      <td>Runnin</td>\n",
       "      <td>14656</td>\n",
       "      <td>0.244267</td>\n",
       "      <td>No</td>\n",
       "    </tr>\n",
       "    <tr>\n",
       "      <th>...</th>\n",
       "      <td>...</td>\n",
       "      <td>...</td>\n",
       "      <td>...</td>\n",
       "      <td>...</td>\n",
       "      <td>...</td>\n",
       "      <td>...</td>\n",
       "      <td>...</td>\n",
       "      <td>...</td>\n",
       "      <td>...</td>\n",
       "    </tr>\n",
       "    <tr>\n",
       "      <th>9995</th>\n",
       "      <td>2024-02-19 02:11</td>\n",
       "      <td>2024-02-19</td>\n",
       "      <td>Mon</td>\n",
       "      <td>02:11</td>\n",
       "      <td>Amari Noelle</td>\n",
       "      <td>Unusual</td>\n",
       "      <td>21008</td>\n",
       "      <td>0.350133</td>\n",
       "      <td>No</td>\n",
       "    </tr>\n",
       "    <tr>\n",
       "      <th>9996</th>\n",
       "      <td>2024-02-19 02:11</td>\n",
       "      <td>2024-02-19</td>\n",
       "      <td>Mon</td>\n",
       "      <td>02:11</td>\n",
       "      <td>Keyshia Cole</td>\n",
       "      <td>Love</td>\n",
       "      <td>2591</td>\n",
       "      <td>0.043183</td>\n",
       "      <td>No</td>\n",
       "    </tr>\n",
       "    <tr>\n",
       "      <th>9997</th>\n",
       "      <td>2024-02-19 02:11</td>\n",
       "      <td>2024-02-19</td>\n",
       "      <td>Mon</td>\n",
       "      <td>02:11</td>\n",
       "      <td>Lucky Daye</td>\n",
       "      <td>Good &amp; Plenty - Remix</td>\n",
       "      <td>1056</td>\n",
       "      <td>0.017600</td>\n",
       "      <td>No</td>\n",
       "    </tr>\n",
       "    <tr>\n",
       "      <th>9998</th>\n",
       "      <td>2024-02-19 02:11</td>\n",
       "      <td>2024-02-19</td>\n",
       "      <td>Mon</td>\n",
       "      <td>02:11</td>\n",
       "      <td>Tory Lanez</td>\n",
       "      <td>H.E.R.//Are You Dumb</td>\n",
       "      <td>11088</td>\n",
       "      <td>0.184800</td>\n",
       "      <td>No</td>\n",
       "    </tr>\n",
       "    <tr>\n",
       "      <th>9999</th>\n",
       "      <td>2024-02-19 02:12</td>\n",
       "      <td>2024-02-19</td>\n",
       "      <td>Mon</td>\n",
       "      <td>02:12</td>\n",
       "      <td>d4vd</td>\n",
       "      <td>Romantic Homicide</td>\n",
       "      <td>7248</td>\n",
       "      <td>0.120800</td>\n",
       "      <td>No</td>\n",
       "    </tr>\n",
       "  </tbody>\n",
       "</table>\n",
       "<p>10000 rows × 9 columns</p>\n",
       "</div>"
      ],
      "text/plain": [
       "               endTime        date wkday   time      artistName  \\\n",
       "0     2023-09-16 21:48  2023-09-16   Sun  21:48           Drake   \n",
       "1     2023-09-16 21:56  2023-09-16   Sun  21:56  Victoria Monét   \n",
       "2     2023-09-16 21:59  2023-09-16   Sun  21:59           Odeal   \n",
       "3     2023-09-16 22:01  2023-09-16   Sun  22:01     Fireboy DML   \n",
       "4     2023-09-17 19:20  2023-09-17   Sun  19:20       21 Savage   \n",
       "...                ...         ...   ...    ...             ...   \n",
       "9995  2024-02-19 02:11  2024-02-19   Mon  02:11    Amari Noelle   \n",
       "9996  2024-02-19 02:11  2024-02-19   Mon  02:11    Keyshia Cole   \n",
       "9997  2024-02-19 02:11  2024-02-19   Mon  02:11      Lucky Daye   \n",
       "9998  2024-02-19 02:11  2024-02-19   Mon  02:11      Tory Lanez   \n",
       "9999  2024-02-19 02:12  2024-02-19   Mon  02:12            d4vd   \n",
       "\n",
       "                  trackName  msPlayed  minsPlayed includesong  \n",
       "0                 Pipe Down    205721    3.428683         Yes  \n",
       "1                   Alright     69036    1.150600         Yes  \n",
       "2             Repercussions    180714    3.011900         Yes  \n",
       "3                   Bandana    133127    2.218783         Yes  \n",
       "4                    Runnin     14656    0.244267          No  \n",
       "...                     ...       ...         ...         ...  \n",
       "9995                Unusual     21008    0.350133          No  \n",
       "9996                   Love      2591    0.043183          No  \n",
       "9997  Good & Plenty - Remix      1056    0.017600          No  \n",
       "9998   H.E.R.//Are You Dumb     11088    0.184800          No  \n",
       "9999      Romantic Homicide      7248    0.120800          No  \n",
       "\n",
       "[10000 rows x 9 columns]"
      ]
     },
     "execution_count": 337,
     "metadata": {},
     "output_type": "execute_result"
    }
   ],
   "source": [
    "#Importing excel data\n",
    "\n",
    "df = pd.read_excel(\"/Users/juanitanelson-addy/OneDrive/VS CODE/CODING PROJECTS/datasets/streaminghistory.xlsx\")\n",
    "df"
   ]
  },
  {
   "cell_type": "code",
   "execution_count": 338,
   "metadata": {},
   "outputs": [
    {
     "data": {
      "text/html": [
       "<div>\n",
       "<style scoped>\n",
       "    .dataframe tbody tr th:only-of-type {\n",
       "        vertical-align: middle;\n",
       "    }\n",
       "\n",
       "    .dataframe tbody tr th {\n",
       "        vertical-align: top;\n",
       "    }\n",
       "\n",
       "    .dataframe thead th {\n",
       "        text-align: right;\n",
       "    }\n",
       "</style>\n",
       "<table border=\"1\" class=\"dataframe\">\n",
       "  <thead>\n",
       "    <tr style=\"text-align: right;\">\n",
       "      <th></th>\n",
       "      <th>endTime</th>\n",
       "      <th>date</th>\n",
       "      <th>wkday</th>\n",
       "      <th>time</th>\n",
       "      <th>artistName</th>\n",
       "      <th>trackName</th>\n",
       "      <th>msPlayed</th>\n",
       "      <th>minsPlayed</th>\n",
       "      <th>includesong</th>\n",
       "    </tr>\n",
       "  </thead>\n",
       "  <tbody>\n",
       "    <tr>\n",
       "      <th>0</th>\n",
       "      <td>2023-09-16 21:48</td>\n",
       "      <td>2023-09-16</td>\n",
       "      <td>Sun</td>\n",
       "      <td>21:48</td>\n",
       "      <td>Drake</td>\n",
       "      <td>Pipe Down</td>\n",
       "      <td>205721</td>\n",
       "      <td>3.428683</td>\n",
       "      <td>Yes</td>\n",
       "    </tr>\n",
       "    <tr>\n",
       "      <th>1</th>\n",
       "      <td>2023-09-16 21:56</td>\n",
       "      <td>2023-09-16</td>\n",
       "      <td>Sun</td>\n",
       "      <td>21:56</td>\n",
       "      <td>Victoria Monét</td>\n",
       "      <td>Alright</td>\n",
       "      <td>69036</td>\n",
       "      <td>1.150600</td>\n",
       "      <td>Yes</td>\n",
       "    </tr>\n",
       "    <tr>\n",
       "      <th>2</th>\n",
       "      <td>2023-09-16 21:59</td>\n",
       "      <td>2023-09-16</td>\n",
       "      <td>Sun</td>\n",
       "      <td>21:59</td>\n",
       "      <td>Odeal</td>\n",
       "      <td>Repercussions</td>\n",
       "      <td>180714</td>\n",
       "      <td>3.011900</td>\n",
       "      <td>Yes</td>\n",
       "    </tr>\n",
       "    <tr>\n",
       "      <th>3</th>\n",
       "      <td>2023-09-16 22:01</td>\n",
       "      <td>2023-09-16</td>\n",
       "      <td>Sun</td>\n",
       "      <td>22:01</td>\n",
       "      <td>Fireboy DML</td>\n",
       "      <td>Bandana</td>\n",
       "      <td>133127</td>\n",
       "      <td>2.218783</td>\n",
       "      <td>Yes</td>\n",
       "    </tr>\n",
       "    <tr>\n",
       "      <th>7</th>\n",
       "      <td>2023-09-17 19:44</td>\n",
       "      <td>2023-09-17</td>\n",
       "      <td>Sun</td>\n",
       "      <td>19:44</td>\n",
       "      <td>Beyoncé</td>\n",
       "      <td>Party - Homecoming Live</td>\n",
       "      <td>228208</td>\n",
       "      <td>3.803467</td>\n",
       "      <td>Yes</td>\n",
       "    </tr>\n",
       "    <tr>\n",
       "      <th>...</th>\n",
       "      <td>...</td>\n",
       "      <td>...</td>\n",
       "      <td>...</td>\n",
       "      <td>...</td>\n",
       "      <td>...</td>\n",
       "      <td>...</td>\n",
       "      <td>...</td>\n",
       "      <td>...</td>\n",
       "      <td>...</td>\n",
       "    </tr>\n",
       "    <tr>\n",
       "      <th>9846</th>\n",
       "      <td>2024-02-18 23:09</td>\n",
       "      <td>2024-02-18</td>\n",
       "      <td>Sun</td>\n",
       "      <td>23:09</td>\n",
       "      <td>Aaliyah</td>\n",
       "      <td>Rock The Boat</td>\n",
       "      <td>274733</td>\n",
       "      <td>4.578883</td>\n",
       "      <td>Yes</td>\n",
       "    </tr>\n",
       "    <tr>\n",
       "      <th>9857</th>\n",
       "      <td>2024-02-18 23:13</td>\n",
       "      <td>2024-02-18</td>\n",
       "      <td>Sun</td>\n",
       "      <td>23:13</td>\n",
       "      <td>Ne-Yo</td>\n",
       "      <td>It Just Ain't Right</td>\n",
       "      <td>227933</td>\n",
       "      <td>3.798883</td>\n",
       "      <td>Yes</td>\n",
       "    </tr>\n",
       "    <tr>\n",
       "      <th>9863</th>\n",
       "      <td>2024-02-18 23:15</td>\n",
       "      <td>2024-02-18</td>\n",
       "      <td>Sun</td>\n",
       "      <td>23:15</td>\n",
       "      <td>Rihanna</td>\n",
       "      <td>Te Amo</td>\n",
       "      <td>64551</td>\n",
       "      <td>1.075850</td>\n",
       "      <td>Yes</td>\n",
       "    </tr>\n",
       "    <tr>\n",
       "      <th>9879</th>\n",
       "      <td>2024-02-19 01:41</td>\n",
       "      <td>2024-02-19</td>\n",
       "      <td>Mon</td>\n",
       "      <td>01:41</td>\n",
       "      <td>A Boogie Wit da Hoodie</td>\n",
       "      <td>Come Closer (feat. Queen Naija)</td>\n",
       "      <td>134880</td>\n",
       "      <td>2.248000</td>\n",
       "      <td>Yes</td>\n",
       "    </tr>\n",
       "    <tr>\n",
       "      <th>9983</th>\n",
       "      <td>2024-02-19 02:08</td>\n",
       "      <td>2024-02-19</td>\n",
       "      <td>Mon</td>\n",
       "      <td>02:08</td>\n",
       "      <td>Summer Walker</td>\n",
       "      <td>Session 33</td>\n",
       "      <td>60015</td>\n",
       "      <td>1.000250</td>\n",
       "      <td>Yes</td>\n",
       "    </tr>\n",
       "  </tbody>\n",
       "</table>\n",
       "<p>5914 rows × 9 columns</p>\n",
       "</div>"
      ],
      "text/plain": [
       "               endTime        date wkday   time              artistName  \\\n",
       "0     2023-09-16 21:48  2023-09-16   Sun  21:48                   Drake   \n",
       "1     2023-09-16 21:56  2023-09-16   Sun  21:56          Victoria Monét   \n",
       "2     2023-09-16 21:59  2023-09-16   Sun  21:59                   Odeal   \n",
       "3     2023-09-16 22:01  2023-09-16   Sun  22:01             Fireboy DML   \n",
       "7     2023-09-17 19:44  2023-09-17   Sun  19:44                 Beyoncé   \n",
       "...                ...         ...   ...    ...                     ...   \n",
       "9846  2024-02-18 23:09  2024-02-18   Sun  23:09                 Aaliyah   \n",
       "9857  2024-02-18 23:13  2024-02-18   Sun  23:13                   Ne-Yo   \n",
       "9863  2024-02-18 23:15  2024-02-18   Sun  23:15                 Rihanna   \n",
       "9879  2024-02-19 01:41  2024-02-19   Mon  01:41  A Boogie Wit da Hoodie   \n",
       "9983  2024-02-19 02:08  2024-02-19   Mon  02:08           Summer Walker   \n",
       "\n",
       "                            trackName  msPlayed  minsPlayed includesong  \n",
       "0                           Pipe Down    205721    3.428683         Yes  \n",
       "1                             Alright     69036    1.150600         Yes  \n",
       "2                       Repercussions    180714    3.011900         Yes  \n",
       "3                             Bandana    133127    2.218783         Yes  \n",
       "7             Party - Homecoming Live    228208    3.803467         Yes  \n",
       "...                               ...       ...         ...         ...  \n",
       "9846                    Rock The Boat    274733    4.578883         Yes  \n",
       "9857              It Just Ain't Right    227933    3.798883         Yes  \n",
       "9863                           Te Amo     64551    1.075850         Yes  \n",
       "9879  Come Closer (feat. Queen Naija)    134880    2.248000         Yes  \n",
       "9983                       Session 33     60015    1.000250         Yes  \n",
       "\n",
       "[5914 rows x 9 columns]"
      ]
     },
     "execution_count": 338,
     "metadata": {},
     "output_type": "execute_result"
    }
   ],
   "source": [
    "#Skipped songs - assign to variable, then drop the songs, then call new DF with skipped songs\n",
    "\n",
    "skipped_songs = df[df[\"includesong\"] == \"No\"].index\n",
    "df.drop(skipped_songs,inplace=True)\n",
    "\n",
    "df"
   ]
  },
  {
   "cell_type": "code",
   "execution_count": 339,
   "metadata": {},
   "outputs": [
    {
     "data": {
      "text/plain": [
       "endTime        5914\n",
       "date           5914\n",
       "wkday          5914\n",
       "time           5914\n",
       "artistName     5914\n",
       "trackName      5914\n",
       "msPlayed       5914\n",
       "minsPlayed     5914\n",
       "includesong    5914\n",
       "dtype: int64"
      ]
     },
     "execution_count": 339,
     "metadata": {},
     "output_type": "execute_result"
    }
   ],
   "source": [
    "#Overall count in each column\n",
    "df.count()"
   ]
  },
  {
   "cell_type": "code",
   "execution_count": 340,
   "metadata": {},
   "outputs": [
    {
     "name": "stdout",
     "output_type": "stream",
     "text": [
      "(5914, 9)\n"
     ]
    }
   ],
   "source": [
    "#Shape of dataframe\n",
    "print(df.shape)"
   ]
  },
  {
   "cell_type": "markdown",
   "metadata": {},
   "source": [
    "## What day of the week are songs streamed the most?"
   ]
  },
  {
   "cell_type": "code",
   "execution_count": 341,
   "metadata": {},
   "outputs": [
    {
     "data": {
      "text/html": [
       "<div>\n",
       "<style scoped>\n",
       "    .dataframe tbody tr th:only-of-type {\n",
       "        vertical-align: middle;\n",
       "    }\n",
       "\n",
       "    .dataframe tbody tr th {\n",
       "        vertical-align: top;\n",
       "    }\n",
       "\n",
       "    .dataframe thead th {\n",
       "        text-align: right;\n",
       "    }\n",
       "</style>\n",
       "<table border=\"1\" class=\"dataframe\">\n",
       "  <thead>\n",
       "    <tr style=\"text-align: right;\">\n",
       "      <th></th>\n",
       "      <th>date</th>\n",
       "      <th>wkday</th>\n",
       "      <th>minsPlayed</th>\n",
       "    </tr>\n",
       "  </thead>\n",
       "  <tbody>\n",
       "    <tr>\n",
       "      <th>0</th>\n",
       "      <td>2023-09-16</td>\n",
       "      <td>Sun</td>\n",
       "      <td>3.428683</td>\n",
       "    </tr>\n",
       "    <tr>\n",
       "      <th>1</th>\n",
       "      <td>2023-09-16</td>\n",
       "      <td>Sun</td>\n",
       "      <td>1.150600</td>\n",
       "    </tr>\n",
       "    <tr>\n",
       "      <th>2</th>\n",
       "      <td>2023-09-16</td>\n",
       "      <td>Sun</td>\n",
       "      <td>3.011900</td>\n",
       "    </tr>\n",
       "    <tr>\n",
       "      <th>3</th>\n",
       "      <td>2023-09-16</td>\n",
       "      <td>Sun</td>\n",
       "      <td>2.218783</td>\n",
       "    </tr>\n",
       "    <tr>\n",
       "      <th>7</th>\n",
       "      <td>2023-09-17</td>\n",
       "      <td>Sun</td>\n",
       "      <td>3.803467</td>\n",
       "    </tr>\n",
       "    <tr>\n",
       "      <th>...</th>\n",
       "      <td>...</td>\n",
       "      <td>...</td>\n",
       "      <td>...</td>\n",
       "    </tr>\n",
       "    <tr>\n",
       "      <th>9846</th>\n",
       "      <td>2024-02-18</td>\n",
       "      <td>Sun</td>\n",
       "      <td>4.578883</td>\n",
       "    </tr>\n",
       "    <tr>\n",
       "      <th>9857</th>\n",
       "      <td>2024-02-18</td>\n",
       "      <td>Sun</td>\n",
       "      <td>3.798883</td>\n",
       "    </tr>\n",
       "    <tr>\n",
       "      <th>9863</th>\n",
       "      <td>2024-02-18</td>\n",
       "      <td>Sun</td>\n",
       "      <td>1.075850</td>\n",
       "    </tr>\n",
       "    <tr>\n",
       "      <th>9879</th>\n",
       "      <td>2024-02-19</td>\n",
       "      <td>Mon</td>\n",
       "      <td>2.248000</td>\n",
       "    </tr>\n",
       "    <tr>\n",
       "      <th>9983</th>\n",
       "      <td>2024-02-19</td>\n",
       "      <td>Mon</td>\n",
       "      <td>1.000250</td>\n",
       "    </tr>\n",
       "  </tbody>\n",
       "</table>\n",
       "<p>5914 rows × 3 columns</p>\n",
       "</div>"
      ],
      "text/plain": [
       "            date wkday  minsPlayed\n",
       "0     2023-09-16   Sun    3.428683\n",
       "1     2023-09-16   Sun    1.150600\n",
       "2     2023-09-16   Sun    3.011900\n",
       "3     2023-09-16   Sun    2.218783\n",
       "7     2023-09-17   Sun    3.803467\n",
       "...          ...   ...         ...\n",
       "9846  2024-02-18   Sun    4.578883\n",
       "9857  2024-02-18   Sun    3.798883\n",
       "9863  2024-02-18   Sun    1.075850\n",
       "9879  2024-02-19   Mon    2.248000\n",
       "9983  2024-02-19   Mon    1.000250\n",
       "\n",
       "[5914 rows x 3 columns]"
      ]
     },
     "execution_count": 341,
     "metadata": {},
     "output_type": "execute_result"
    }
   ],
   "source": [
    "#Selecting columns we want\n",
    "df[[\"date\", \"wkday\", \"minsPlayed\"]]"
   ]
  },
  {
   "cell_type": "code",
   "execution_count": 342,
   "metadata": {},
   "outputs": [],
   "source": [
    "#Assinging variable to weekdays to keep them in order\n",
    "day = [\"Mon\", \"Tue\", \"Wed\", \"Thu\", \"Fri\", \"Sat\", \"Sun\"]"
   ]
  },
  {
   "cell_type": "code",
   "execution_count": 343,
   "metadata": {},
   "outputs": [
    {
     "data": {
      "text/plain": [
       "wkday\n",
       "Mon    1874.146183\n",
       "Tue    3403.496617\n",
       "Wed    3659.874083\n",
       "Thu    3449.201567\n",
       "Fri    2344.905333\n",
       "Sat            NaN\n",
       "Sun    5310.979983\n",
       "Name: minsPlayed, dtype: float64"
      ]
     },
     "execution_count": 343,
     "metadata": {},
     "output_type": "execute_result"
    }
   ],
   "source": [
    "#Counting up mins played each day of the week\n",
    "mins = df.groupby(\"wkday\")[\"minsPlayed\"].sum().reindex(day)\n",
    "mins"
   ]
  },
  {
   "cell_type": "code",
   "execution_count": 344,
   "metadata": {},
   "outputs": [
    {
     "data": {
      "image/png": "[encoded data removed]",
      "text/plain": [
       "<Figure size 640x480 with 1 Axes>"
      ]
     },
     "metadata": {},
     "output_type": "display_data"
    }
   ],
   "source": [
    "#Display data\n",
    "\n",
    "min_day = df.groupby(\"wkday\")[\"minsPlayed\"].sum().reindex(day)\n",
    "\n",
    "plt.plot(min_day, color=\"Orange\", marker=\"o\", mfc=\"black\", mec=\"k\")\n",
    "plt.ylabel(\"Minutes Listened\")\n",
    "plt.xlabel(\"Day of the Week\")\n",
    "plt.title(\"Total Minutes Listened per Day\")\n",
    "plt.show()"
   ]
  },
  {
   "cell_type": "markdown",
   "metadata": {},
   "source": [
    "Findings: User listened to the most music on Sundays, and none on Saturday. \n",
    "\n",
    "Recommendation: Perhaps, new music ads should be played on those days because the user is more likely to see it.\n",
    "Potentially create incentives to increase user engagement on ower count days."
   ]
  },
  {
   "cell_type": "markdown",
   "metadata": {},
   "source": [
    "## Top 10 Streamed Songs"
   ]
  },
  {
   "cell_type": "code",
   "execution_count": 345,
   "metadata": {},
   "outputs": [
    {
     "name": "stderr",
     "output_type": "stream",
     "text": [
      "/var/folders/hh/xj5f9jp9389043d0n5sb2q440000gn/T/ipykernel_70951/1136011531.py:2: FutureWarning: pandas.value_counts is deprecated and will be removed in a future version. Use pd.Series(obj).value_counts() instead.\n",
      "  pd.value_counts(df[\"trackName\"])\n"
     ]
    },
    {
     "data": {
      "text/plain": [
       "trackName\n",
       "Sneak                    22\n",
       "Outside                  21\n",
       "Burn                     18\n",
       "U Got It Bad             18\n",
       "Mad                      18\n",
       "                         ..\n",
       "ALREADY                   1\n",
       "Fountains (with Tems)     1\n",
       "Sere (Remix)              1\n",
       "Useless                   1\n",
       "808                       1\n",
       "Name: count, Length: 2307, dtype: int64"
      ]
     },
     "execution_count": 345,
     "metadata": {},
     "output_type": "execute_result"
    }
   ],
   "source": [
    "#No of time each track name appears\n",
    "pd.value_counts(df[\"trackName\"])"
   ]
  },
  {
   "cell_type": "code",
   "execution_count": 346,
   "metadata": {},
   "outputs": [
    {
     "name": "stderr",
     "output_type": "stream",
     "text": [
      "/var/folders/hh/xj5f9jp9389043d0n5sb2q440000gn/T/ipykernel_70951/2225152322.py:2: FutureWarning: pandas.value_counts is deprecated and will be removed in a future version. Use pd.Series(obj).value_counts() instead.\n",
      "  pd.value_counts(df[\"trackName\"]).head(10)\n"
     ]
    },
    {
     "data": {
      "text/plain": [
       "trackName\n",
       "Sneak                                              22\n",
       "Outside                                            21\n",
       "Burn                                               18\n",
       "U Got It Bad                                       18\n",
       "Mad                                                18\n",
       "Forgive Me                                         18\n",
       "Champagne Life                                     18\n",
       "On My Mama                                         17\n",
       "Luv Is Dro (feat. Static Major & Bryson Tiller)    17\n",
       "Game Over                                          17\n",
       "Name: count, dtype: int64"
      ]
     },
     "execution_count": 346,
     "metadata": {},
     "output_type": "execute_result"
    }
   ],
   "source": [
    "#First 10 tracks\n",
    "pd.value_counts(df[\"trackName\"]).head(10)"
   ]
  },
  {
   "cell_type": "code",
   "execution_count": 347,
   "metadata": {},
   "outputs": [
    {
     "name": "stderr",
     "output_type": "stream",
     "text": [
      "/var/folders/hh/xj5f9jp9389043d0n5sb2q440000gn/T/ipykernel_70951/2317477626.py:2: FutureWarning: pandas.value_counts is deprecated and will be removed in a future version. Use pd.Series(obj).value_counts() instead.\n",
      "  pd.value_counts(df[\"trackName\"]).head(10).plot(kind=\"bar\", color=\"purple\")\n"
     ]
    },
    {
     "data": {
      "text/plain": [
       "Text(0.5, 0, 'Song Name')"
      ]
     },
     "execution_count": 347,
     "metadata": {},
     "output_type": "execute_result"
    },
    {
     "data": {
      "image/png": "[encoded data removed]",
      "text/plain": [
       "<Figure size 640x480 with 1 Axes>"
      ]
     },
     "metadata": {},
     "output_type": "display_data"
    }
   ],
   "source": [
    "#Bar graph to display\n",
    "pd.value_counts(df[\"trackName\"]).head(10).plot(kind=\"bar\", color=\"purple\")\n",
    "plt.xticks(rotation=45, ha=\"right\")\n",
    "plt.title(\"Top 10 Streamed Songs\")\n",
    "plt.ylabel(\"Stream Count\")\n",
    "plt.xlabel(\"Song Name\")"
   ]
  },
  {
   "cell_type": "markdown",
   "metadata": {},
   "source": [
    "Findings: Sneak was the most replayed song in this period.\n",
    "\n",
    "Recommendation: Spotify could queue up songs similar to it to help the user discover more songs."
   ]
  },
  {
   "cell_type": "markdown",
   "metadata": {},
   "source": [
    "## Top 20 Streamed Artists"
   ]
  },
  {
   "cell_type": "code",
   "execution_count": 348,
   "metadata": {},
   "outputs": [
    {
     "name": "stderr",
     "output_type": "stream",
     "text": [
      "/var/folders/hh/xj5f9jp9389043d0n5sb2q440000gn/T/ipykernel_70951/1340954287.py:1: FutureWarning: pandas.value_counts is deprecated and will be removed in a future version. Use pd.Series(obj).value_counts() instead.\n",
      "  pd.value_counts(df[\"artistName\"])\n"
     ]
    },
    {
     "data": {
      "text/plain": [
       "artistName\n",
       "Ne-Yo              603\n",
       "Dave               384\n",
       "Beyoncé            303\n",
       "Jhené Aiko         287\n",
       "USHER              284\n",
       "                  ... \n",
       "Lizzo                1\n",
       "Bloody Civilian      1\n",
       "Fleetwood Mac        1\n",
       "Jim-E Stack          1\n",
       "Syd                  1\n",
       "Name: count, Length: 894, dtype: int64"
      ]
     },
     "execution_count": 348,
     "metadata": {},
     "output_type": "execute_result"
    }
   ],
   "source": [
    "pd.value_counts(df[\"artistName\"])"
   ]
  },
  {
   "cell_type": "code",
   "execution_count": 349,
   "metadata": {},
   "outputs": [
    {
     "name": "stderr",
     "output_type": "stream",
     "text": [
      "/var/folders/hh/xj5f9jp9389043d0n5sb2q440000gn/T/ipykernel_70951/1779618458.py:1: FutureWarning: pandas.value_counts is deprecated and will be removed in a future version. Use pd.Series(obj).value_counts() instead.\n",
      "  pd.value_counts(df[\"artistName\"]).head(20)\n"
     ]
    },
    {
     "data": {
      "text/plain": [
       "artistName\n",
       "Ne-Yo             603\n",
       "Dave              384\n",
       "Beyoncé           303\n",
       "Jhené Aiko        287\n",
       "USHER             284\n",
       "Bryson Tiller     156\n",
       "Jack Harlow       140\n",
       "Lucky Daye        135\n",
       "Victoria Monét    132\n",
       "Rema              129\n",
       "Don Toliver       127\n",
       "One Direction     126\n",
       "Drake             115\n",
       "Rihanna           114\n",
       "Chloe x Halle     108\n",
       "Stormzy           103\n",
       "FLO               101\n",
       "Jorja Smith        80\n",
       "Mac Ayres          78\n",
       "Bruno Mars         74\n",
       "Name: count, dtype: int64"
      ]
     },
     "execution_count": 349,
     "metadata": {},
     "output_type": "execute_result"
    }
   ],
   "source": [
    "pd.value_counts(df[\"artistName\"]).head(20)"
   ]
  },
  {
   "cell_type": "code",
   "execution_count": 350,
   "metadata": {},
   "outputs": [
    {
     "name": "stderr",
     "output_type": "stream",
     "text": [
      "/var/folders/hh/xj5f9jp9389043d0n5sb2q440000gn/T/ipykernel_70951/3229290339.py:1: FutureWarning: pandas.value_counts is deprecated and will be removed in a future version. Use pd.Series(obj).value_counts() instead.\n",
      "  pd.value_counts(df[\"artistName\"]).head(20).plot(kind=\"barh\", color=\"purple\")\n"
     ]
    },
    {
     "data": {
      "image/png": "[encoded data removed]",
      "text/plain": [
       "<Figure size 640x480 with 1 Axes>"
      ]
     },
     "metadata": {},
     "output_type": "display_data"
    }
   ],
   "source": [
    "pd.value_counts(df[\"artistName\"]).head(20).plot(kind=\"barh\", color=\"purple\")\n",
    "plt.xticks(rotation=45, ha=\"right\")\n",
    "plt.title(\"Top 20 Streamed Artists\")\n",
    "plt.ylabel(\"Stream Count\")\n",
    "plt.xlabel(\"Artist Name\")\n",
    "figsize=(100,100)"
   ]
  },
  {
   "cell_type": "markdown",
   "metadata": {},
   "source": [
    "Findings: Ne-Yo is the most listened to artist.\n",
    "\n",
    "Recommendation: Spotify should auto-play this artist's songs once a playlist is finished or songs are not queued."
   ]
  },
  {
   "cell_type": "markdown",
   "metadata": {},
   "source": [
    "# Popular time of day to listen to music"
   ]
  },
  {
   "cell_type": "code",
   "execution_count": 351,
   "metadata": {},
   "outputs": [
    {
     "name": "stderr",
     "output_type": "stream",
     "text": [
      "/var/folders/hh/xj5f9jp9389043d0n5sb2q440000gn/T/ipykernel_70951/1914797275.py:1: FutureWarning: pandas.value_counts is deprecated and will be removed in a future version. Use pd.Series(obj).value_counts() instead.\n",
      "  pd.value_counts(df[\"time\"])\n"
     ]
    },
    {
     "data": {
      "text/plain": [
       "time\n",
       "17:51    12\n",
       "12:40    12\n",
       "16:35    12\n",
       "21:08    12\n",
       "17:58    11\n",
       "         ..\n",
       "07:59     1\n",
       "00:51     1\n",
       "04:59     1\n",
       "05:20     1\n",
       "05:32     1\n",
       "Name: count, Length: 1385, dtype: int64"
      ]
     },
     "execution_count": 351,
     "metadata": {},
     "output_type": "execute_result"
    }
   ],
   "source": [
    "pd.value_counts(df[\"time\"])"
   ]
  },
  {
   "cell_type": "markdown",
   "metadata": {},
   "source": [
    "## How many songs in each playlist?"
   ]
  },
  {
   "cell_type": "code",
   "execution_count": 352,
   "metadata": {},
   "outputs": [
    {
     "data": {
      "text/html": [
       "<div>\n",
       "<style scoped>\n",
       "    .dataframe tbody tr th:only-of-type {\n",
       "        vertical-align: middle;\n",
       "    }\n",
       "\n",
       "    .dataframe tbody tr th {\n",
       "        vertical-align: top;\n",
       "    }\n",
       "\n",
       "    .dataframe thead th {\n",
       "        text-align: right;\n",
       "    }\n",
       "</style>\n",
       "<table border=\"1\" class=\"dataframe\">\n",
       "  <thead>\n",
       "    <tr style=\"text-align: right;\">\n",
       "      <th></th>\n",
       "      <th>playlists</th>\n",
       "      <th>name</th>\n",
       "      <th>lastModifiedDate</th>\n",
       "      <th>items</th>\n",
       "      <th>track</th>\n",
       "      <th>trackName</th>\n",
       "      <th>artistName</th>\n",
       "      <th>albumName</th>\n",
       "      <th>trackUri</th>\n",
       "      <th>episode</th>\n",
       "      <th>audiobook</th>\n",
       "      <th>localTrack</th>\n",
       "      <th>addedDate</th>\n",
       "      <th>description</th>\n",
       "      <th>numberOfFollowers</th>\n",
       "    </tr>\n",
       "  </thead>\n",
       "  <tbody>\n",
       "    <tr>\n",
       "      <th>0</th>\n",
       "      <td>NaN</td>\n",
       "      <td>to ji ji</td>\n",
       "      <td>2024-03-29</td>\n",
       "      <td>NaN</td>\n",
       "      <td>NaN</td>\n",
       "      <td>Hello</td>\n",
       "      <td>J. Cole</td>\n",
       "      <td>2014 Forest Hills Drive</td>\n",
       "      <td>spotify:track:7L3yLy4K5CI7AWK2DfAbTv</td>\n",
       "      <td>NaN</td>\n",
       "      <td>NaN</td>\n",
       "      <td>NaN</td>\n",
       "      <td>2024-03-29</td>\n",
       "      <td>NaN</td>\n",
       "      <td>1.0</td>\n",
       "    </tr>\n",
       "    <tr>\n",
       "      <th>1</th>\n",
       "      <td>NaN</td>\n",
       "      <td>NaN</td>\n",
       "      <td>NaN</td>\n",
       "      <td>NaN</td>\n",
       "      <td>NaN</td>\n",
       "      <td>Baby</td>\n",
       "      <td>Summer Walker</td>\n",
       "      <td>Last Day Of Summer</td>\n",
       "      <td>spotify:track:7aVKQJZwdqyEPkvKSyEuxj</td>\n",
       "      <td>NaN</td>\n",
       "      <td>NaN</td>\n",
       "      <td>NaN</td>\n",
       "      <td>2024-03-29</td>\n",
       "      <td>NaN</td>\n",
       "      <td>NaN</td>\n",
       "    </tr>\n",
       "    <tr>\n",
       "      <th>2</th>\n",
       "      <td>NaN</td>\n",
       "      <td>NaN</td>\n",
       "      <td>NaN</td>\n",
       "      <td>NaN</td>\n",
       "      <td>NaN</td>\n",
       "      <td>I Am</td>\n",
       "      <td>Jorja Smith</td>\n",
       "      <td>Black Panther The Album Music From And Inspire...</td>\n",
       "      <td>spotify:track:0DJBgBiYeSn6n1AXAkFVE8</td>\n",
       "      <td>NaN</td>\n",
       "      <td>NaN</td>\n",
       "      <td>NaN</td>\n",
       "      <td>2024-03-29</td>\n",
       "      <td>NaN</td>\n",
       "      <td>NaN</td>\n",
       "    </tr>\n",
       "    <tr>\n",
       "      <th>3</th>\n",
       "      <td>NaN</td>\n",
       "      <td>NaN</td>\n",
       "      <td>NaN</td>\n",
       "      <td>NaN</td>\n",
       "      <td>NaN</td>\n",
       "      <td>Mad Over You</td>\n",
       "      <td>Runtown</td>\n",
       "      <td>Mad Over You</td>\n",
       "      <td>spotify:track:1jloWdvMh9nwHUu3mag8CL</td>\n",
       "      <td>NaN</td>\n",
       "      <td>NaN</td>\n",
       "      <td>NaN</td>\n",
       "      <td>2024-03-29</td>\n",
       "      <td>NaN</td>\n",
       "      <td>NaN</td>\n",
       "    </tr>\n",
       "    <tr>\n",
       "      <th>4</th>\n",
       "      <td>NaN</td>\n",
       "      <td>NaN</td>\n",
       "      <td>NaN</td>\n",
       "      <td>NaN</td>\n",
       "      <td>NaN</td>\n",
       "      <td>You (feat. Travis Scott)</td>\n",
       "      <td>Don Toliver</td>\n",
       "      <td>Life of a DON</td>\n",
       "      <td>spotify:track:4qS2KPWvsQzLvRa9oCHw41</td>\n",
       "      <td>NaN</td>\n",
       "      <td>NaN</td>\n",
       "      <td>NaN</td>\n",
       "      <td>2024-03-29</td>\n",
       "      <td>NaN</td>\n",
       "      <td>NaN</td>\n",
       "    </tr>\n",
       "    <tr>\n",
       "      <th>...</th>\n",
       "      <td>...</td>\n",
       "      <td>...</td>\n",
       "      <td>...</td>\n",
       "      <td>...</td>\n",
       "      <td>...</td>\n",
       "      <td>...</td>\n",
       "      <td>...</td>\n",
       "      <td>...</td>\n",
       "      <td>...</td>\n",
       "      <td>...</td>\n",
       "      <td>...</td>\n",
       "      <td>...</td>\n",
       "      <td>...</td>\n",
       "      <td>...</td>\n",
       "      <td>...</td>\n",
       "    </tr>\n",
       "    <tr>\n",
       "      <th>6172</th>\n",
       "      <td>NaN</td>\n",
       "      <td>NaN</td>\n",
       "      <td>NaN</td>\n",
       "      <td>NaN</td>\n",
       "      <td>NaN</td>\n",
       "      <td>À la folie</td>\n",
       "      <td>Booba</td>\n",
       "      <td>Trône</td>\n",
       "      <td>spotify:track:2ENrPKCV8OyorEpDSsVpBh</td>\n",
       "      <td>NaN</td>\n",
       "      <td>NaN</td>\n",
       "      <td>NaN</td>\n",
       "      <td>2021-11-18</td>\n",
       "      <td>NaN</td>\n",
       "      <td>NaN</td>\n",
       "    </tr>\n",
       "    <tr>\n",
       "      <th>6173</th>\n",
       "      <td>NaN</td>\n",
       "      <td>NaN</td>\n",
       "      <td>NaN</td>\n",
       "      <td>NaN</td>\n",
       "      <td>NaN</td>\n",
       "      <td>Ça va aller</td>\n",
       "      <td>La Synesia</td>\n",
       "      <td>Conquête du trône</td>\n",
       "      <td>spotify:track:02PBAJJd2EPetkC3fbF3uv</td>\n",
       "      <td>NaN</td>\n",
       "      <td>NaN</td>\n",
       "      <td>NaN</td>\n",
       "      <td>2021-11-18</td>\n",
       "      <td>NaN</td>\n",
       "      <td>NaN</td>\n",
       "    </tr>\n",
       "    <tr>\n",
       "      <th>6174</th>\n",
       "      <td>NaN</td>\n",
       "      <td>NaN</td>\n",
       "      <td>NaN</td>\n",
       "      <td>NaN</td>\n",
       "      <td>NaN</td>\n",
       "      <td>École</td>\n",
       "      <td>Fally Ipupa</td>\n",
       "      <td>Control</td>\n",
       "      <td>spotify:track:7nWTlRtON9QfgovrWijUQf</td>\n",
       "      <td>NaN</td>\n",
       "      <td>NaN</td>\n",
       "      <td>NaN</td>\n",
       "      <td>2021-11-18</td>\n",
       "      <td>NaN</td>\n",
       "      <td>NaN</td>\n",
       "    </tr>\n",
       "    <tr>\n",
       "      <th>6175</th>\n",
       "      <td>NaN</td>\n",
       "      <td>NaN</td>\n",
       "      <td>NaN</td>\n",
       "      <td>NaN</td>\n",
       "      <td>NaN</td>\n",
       "      <td>“Caterpillars 1st” (INTRO)</td>\n",
       "      <td>Ne-Yo</td>\n",
       "      <td>GOOD MAN</td>\n",
       "      <td>spotify:track:2Bw5wiShfFr7qXL3jHLkPm</td>\n",
       "      <td>NaN</td>\n",
       "      <td>NaN</td>\n",
       "      <td>NaN</td>\n",
       "      <td>2021-11-18</td>\n",
       "      <td>NaN</td>\n",
       "      <td>NaN</td>\n",
       "    </tr>\n",
       "    <tr>\n",
       "      <th>6176</th>\n",
       "      <td>NaN</td>\n",
       "      <td>NaN</td>\n",
       "      <td>NaN</td>\n",
       "      <td>NaN</td>\n",
       "      <td>NaN</td>\n",
       "      <td>“The Struggle…” (Interlude)</td>\n",
       "      <td>Ne-Yo</td>\n",
       "      <td>GOOD MAN</td>\n",
       "      <td>spotify:track:64qYbYQ1HaWAwjakAuRlON</td>\n",
       "      <td>NaN</td>\n",
       "      <td>NaN</td>\n",
       "      <td>NaN</td>\n",
       "      <td>2021-11-18</td>\n",
       "      <td>NaN</td>\n",
       "      <td>NaN</td>\n",
       "    </tr>\n",
       "  </tbody>\n",
       "</table>\n",
       "<p>6177 rows × 15 columns</p>\n",
       "</div>"
      ],
      "text/plain": [
       "      playlists      name lastModifiedDate  items  track  \\\n",
       "0           NaN  to ji ji       2024-03-29    NaN    NaN   \n",
       "1           NaN       NaN              NaN    NaN    NaN   \n",
       "2           NaN       NaN              NaN    NaN    NaN   \n",
       "3           NaN       NaN              NaN    NaN    NaN   \n",
       "4           NaN       NaN              NaN    NaN    NaN   \n",
       "...         ...       ...              ...    ...    ...   \n",
       "6172        NaN       NaN              NaN    NaN    NaN   \n",
       "6173        NaN       NaN              NaN    NaN    NaN   \n",
       "6174        NaN       NaN              NaN    NaN    NaN   \n",
       "6175        NaN       NaN              NaN    NaN    NaN   \n",
       "6176        NaN       NaN              NaN    NaN    NaN   \n",
       "\n",
       "                        trackName     artistName  \\\n",
       "0                           Hello        J. Cole   \n",
       "1                            Baby  Summer Walker   \n",
       "2                            I Am    Jorja Smith   \n",
       "3                    Mad Over You        Runtown   \n",
       "4        You (feat. Travis Scott)    Don Toliver   \n",
       "...                           ...            ...   \n",
       "6172                   À la folie          Booba   \n",
       "6173                  Ça va aller     La Synesia   \n",
       "6174                        École    Fally Ipupa   \n",
       "6175   “Caterpillars 1st” (INTRO)          Ne-Yo   \n",
       "6176  “The Struggle…” (Interlude)          Ne-Yo   \n",
       "\n",
       "                                              albumName  \\\n",
       "0                               2014 Forest Hills Drive   \n",
       "1                                    Last Day Of Summer   \n",
       "2     Black Panther The Album Music From And Inspire...   \n",
       "3                                          Mad Over You   \n",
       "4                                         Life of a DON   \n",
       "...                                                 ...   \n",
       "6172                                              Trône   \n",
       "6173                                  Conquête du trône   \n",
       "6174                                            Control   \n",
       "6175                                           GOOD MAN   \n",
       "6176                                           GOOD MAN   \n",
       "\n",
       "                                  trackUri  episode  audiobook  localTrack  \\\n",
       "0     spotify:track:7L3yLy4K5CI7AWK2DfAbTv      NaN        NaN         NaN   \n",
       "1     spotify:track:7aVKQJZwdqyEPkvKSyEuxj      NaN        NaN         NaN   \n",
       "2     spotify:track:0DJBgBiYeSn6n1AXAkFVE8      NaN        NaN         NaN   \n",
       "3     spotify:track:1jloWdvMh9nwHUu3mag8CL      NaN        NaN         NaN   \n",
       "4     spotify:track:4qS2KPWvsQzLvRa9oCHw41      NaN        NaN         NaN   \n",
       "...                                    ...      ...        ...         ...   \n",
       "6172  spotify:track:2ENrPKCV8OyorEpDSsVpBh      NaN        NaN         NaN   \n",
       "6173  spotify:track:02PBAJJd2EPetkC3fbF3uv      NaN        NaN         NaN   \n",
       "6174  spotify:track:7nWTlRtON9QfgovrWijUQf      NaN        NaN         NaN   \n",
       "6175  spotify:track:2Bw5wiShfFr7qXL3jHLkPm      NaN        NaN         NaN   \n",
       "6176  spotify:track:64qYbYQ1HaWAwjakAuRlON      NaN        NaN         NaN   \n",
       "\n",
       "       addedDate description  numberOfFollowers  \n",
       "0     2024-03-29         NaN                1.0  \n",
       "1     2024-03-29         NaN                NaN  \n",
       "2     2024-03-29         NaN                NaN  \n",
       "3     2024-03-29         NaN                NaN  \n",
       "4     2024-03-29         NaN                NaN  \n",
       "...          ...         ...                ...  \n",
       "6172  2021-11-18         NaN                NaN  \n",
       "6173  2021-11-18         NaN                NaN  \n",
       "6174  2021-11-18         NaN                NaN  \n",
       "6175  2021-11-18         NaN                NaN  \n",
       "6176  2021-11-18         NaN                NaN  \n",
       "\n",
       "[6177 rows x 15 columns]"
      ]
     },
     "execution_count": 352,
     "metadata": {},
     "output_type": "execute_result"
    }
   ],
   "source": [
    "#Import playlist data\n",
    "\n",
    "playlist = pd.read_excel(\"/Users/juanitanelson-addy/OneDrive/VS CODE/CODING PROJECTS/datasets/playlistdata.xlsx\")\n",
    "playlist                         "
   ]
  },
  {
   "cell_type": "code",
   "execution_count": 353,
   "metadata": {},
   "outputs": [
    {
     "data": {
      "text/plain": [
       "playlists               0\n",
       "name                   61\n",
       "lastModifiedDate       61\n",
       "items                   0\n",
       "track                   0\n",
       "trackName            6177\n",
       "artistName           6177\n",
       "albumName            6177\n",
       "trackUri             6177\n",
       "episode                 0\n",
       "audiobook               0\n",
       "localTrack              0\n",
       "addedDate            6177\n",
       "description            18\n",
       "numberOfFollowers      61\n",
       "dtype: int64"
      ]
     },
     "execution_count": 353,
     "metadata": {},
     "output_type": "execute_result"
    }
   ],
   "source": [
    "#Count values in each column\n",
    "playlist.count()"
   ]
  },
  {
   "cell_type": "code",
   "execution_count": 354,
   "metadata": {},
   "outputs": [
    {
     "data": {
      "text/plain": [
       "name                  61\n",
       "lastModifiedDate      61\n",
       "trackName           6177\n",
       "artistName          6177\n",
       "albumName           6177\n",
       "addedDate           6177\n",
       "dtype: int64"
      ]
     },
     "execution_count": 354,
     "metadata": {},
     "output_type": "execute_result"
    }
   ],
   "source": [
    "#Clean data\n",
    "\n",
    "playlist = playlist.drop([\"playlists\", \"items\", \"track\", \"trackUri\", \"episode\", \"localTrack\", \"description\", \"numberOfFollowers\", \"audiobook\"], axis=1)\n",
    "playlist.count()"
   ]
  },
  {
   "cell_type": "code",
   "execution_count": 355,
   "metadata": {},
   "outputs": [
    {
     "name": "stdout",
     "output_type": "stream",
     "text": [
      "name\n",
      "lastModifiedDate\n",
      "trackName\n",
      "artistName\n",
      "albumName\n",
      "addedDate\n"
     ]
    }
   ],
   "source": [
    "for col in playlist.columns:\n",
    "    print(col)"
   ]
  },
  {
   "cell_type": "code",
   "execution_count": 356,
   "metadata": {},
   "outputs": [
    {
     "data": {
      "text/html": [
       "<div>\n",
       "<style scoped>\n",
       "    .dataframe tbody tr th:only-of-type {\n",
       "        vertical-align: middle;\n",
       "    }\n",
       "\n",
       "    .dataframe tbody tr th {\n",
       "        vertical-align: top;\n",
       "    }\n",
       "\n",
       "    .dataframe thead th {\n",
       "        text-align: right;\n",
       "    }\n",
       "</style>\n",
       "<table border=\"1\" class=\"dataframe\">\n",
       "  <thead>\n",
       "    <tr style=\"text-align: right;\">\n",
       "      <th></th>\n",
       "      <th>name</th>\n",
       "      <th>lastModifiedDate</th>\n",
       "      <th>trackName</th>\n",
       "      <th>artistName</th>\n",
       "      <th>albumName</th>\n",
       "      <th>addedDate</th>\n",
       "    </tr>\n",
       "  </thead>\n",
       "  <tbody>\n",
       "    <tr>\n",
       "      <th>0</th>\n",
       "      <td>to ji ji</td>\n",
       "      <td>2024-03-29</td>\n",
       "      <td>Hello</td>\n",
       "      <td>J. Cole</td>\n",
       "      <td>2014 Forest Hills Drive</td>\n",
       "      <td>2024-03-29</td>\n",
       "    </tr>\n",
       "    <tr>\n",
       "      <th>1</th>\n",
       "      <td>NaN</td>\n",
       "      <td>NaN</td>\n",
       "      <td>Baby</td>\n",
       "      <td>Summer Walker</td>\n",
       "      <td>Last Day Of Summer</td>\n",
       "      <td>2024-03-29</td>\n",
       "    </tr>\n",
       "    <tr>\n",
       "      <th>2</th>\n",
       "      <td>NaN</td>\n",
       "      <td>NaN</td>\n",
       "      <td>I Am</td>\n",
       "      <td>Jorja Smith</td>\n",
       "      <td>Black Panther The Album Music From And Inspire...</td>\n",
       "      <td>2024-03-29</td>\n",
       "    </tr>\n",
       "    <tr>\n",
       "      <th>3</th>\n",
       "      <td>NaN</td>\n",
       "      <td>NaN</td>\n",
       "      <td>Mad Over You</td>\n",
       "      <td>Runtown</td>\n",
       "      <td>Mad Over You</td>\n",
       "      <td>2024-03-29</td>\n",
       "    </tr>\n",
       "    <tr>\n",
       "      <th>4</th>\n",
       "      <td>NaN</td>\n",
       "      <td>NaN</td>\n",
       "      <td>You (feat. Travis Scott)</td>\n",
       "      <td>Don Toliver</td>\n",
       "      <td>Life of a DON</td>\n",
       "      <td>2024-03-29</td>\n",
       "    </tr>\n",
       "    <tr>\n",
       "      <th>...</th>\n",
       "      <td>...</td>\n",
       "      <td>...</td>\n",
       "      <td>...</td>\n",
       "      <td>...</td>\n",
       "      <td>...</td>\n",
       "      <td>...</td>\n",
       "    </tr>\n",
       "    <tr>\n",
       "      <th>6172</th>\n",
       "      <td>NaN</td>\n",
       "      <td>NaN</td>\n",
       "      <td>À la folie</td>\n",
       "      <td>Booba</td>\n",
       "      <td>Trône</td>\n",
       "      <td>2021-11-18</td>\n",
       "    </tr>\n",
       "    <tr>\n",
       "      <th>6173</th>\n",
       "      <td>NaN</td>\n",
       "      <td>NaN</td>\n",
       "      <td>Ça va aller</td>\n",
       "      <td>La Synesia</td>\n",
       "      <td>Conquête du trône</td>\n",
       "      <td>2021-11-18</td>\n",
       "    </tr>\n",
       "    <tr>\n",
       "      <th>6174</th>\n",
       "      <td>NaN</td>\n",
       "      <td>NaN</td>\n",
       "      <td>École</td>\n",
       "      <td>Fally Ipupa</td>\n",
       "      <td>Control</td>\n",
       "      <td>2021-11-18</td>\n",
       "    </tr>\n",
       "    <tr>\n",
       "      <th>6175</th>\n",
       "      <td>NaN</td>\n",
       "      <td>NaN</td>\n",
       "      <td>“Caterpillars 1st” (INTRO)</td>\n",
       "      <td>Ne-Yo</td>\n",
       "      <td>GOOD MAN</td>\n",
       "      <td>2021-11-18</td>\n",
       "    </tr>\n",
       "    <tr>\n",
       "      <th>6176</th>\n",
       "      <td>NaN</td>\n",
       "      <td>NaN</td>\n",
       "      <td>“The Struggle…” (Interlude)</td>\n",
       "      <td>Ne-Yo</td>\n",
       "      <td>GOOD MAN</td>\n",
       "      <td>2021-11-18</td>\n",
       "    </tr>\n",
       "  </tbody>\n",
       "</table>\n",
       "<p>6177 rows × 6 columns</p>\n",
       "</div>"
      ],
      "text/plain": [
       "          name lastModifiedDate                    trackName     artistName  \\\n",
       "0     to ji ji       2024-03-29                        Hello        J. Cole   \n",
       "1          NaN              NaN                         Baby  Summer Walker   \n",
       "2          NaN              NaN                         I Am    Jorja Smith   \n",
       "3          NaN              NaN                 Mad Over You        Runtown   \n",
       "4          NaN              NaN     You (feat. Travis Scott)    Don Toliver   \n",
       "...        ...              ...                          ...            ...   \n",
       "6172       NaN              NaN                   À la folie          Booba   \n",
       "6173       NaN              NaN                  Ça va aller     La Synesia   \n",
       "6174       NaN              NaN                        École    Fally Ipupa   \n",
       "6175       NaN              NaN   “Caterpillars 1st” (INTRO)          Ne-Yo   \n",
       "6176       NaN              NaN  “The Struggle…” (Interlude)          Ne-Yo   \n",
       "\n",
       "                                              albumName   addedDate  \n",
       "0                               2014 Forest Hills Drive  2024-03-29  \n",
       "1                                    Last Day Of Summer  2024-03-29  \n",
       "2     Black Panther The Album Music From And Inspire...  2024-03-29  \n",
       "3                                          Mad Over You  2024-03-29  \n",
       "4                                         Life of a DON  2024-03-29  \n",
       "...                                                 ...         ...  \n",
       "6172                                              Trône  2021-11-18  \n",
       "6173                                  Conquête du trône  2021-11-18  \n",
       "6174                                            Control  2021-11-18  \n",
       "6175                                           GOOD MAN  2021-11-18  \n",
       "6176                                           GOOD MAN  2021-11-18  \n",
       "\n",
       "[6177 rows x 6 columns]"
      ]
     },
     "execution_count": 356,
     "metadata": {},
     "output_type": "execute_result"
    }
   ],
   "source": [
    "#New DF print\n",
    "playlist"
   ]
  },
  {
   "cell_type": "code",
   "execution_count": 357,
   "metadata": {},
   "outputs": [
    {
     "data": {
      "text/plain": [
       "0        to ji ji\n",
       "1        to ji ji\n",
       "2        to ji ji\n",
       "3        to ji ji\n",
       "4        to ji ji\n",
       "          ...    \n",
       "6172    All songs\n",
       "6173    All songs\n",
       "6174    All songs\n",
       "6175    All songs\n",
       "6176    All songs\n",
       "Name: name, Length: 6177, dtype: object"
      ]
     },
     "execution_count": 357,
     "metadata": {},
     "output_type": "execute_result"
    }
   ],
   "source": [
    "#Filling in NaN with playlists names until next one shows up\n",
    "playlist[\"name\"] = playlist.name.replace(r\"^\\s*$\", np.nan, regex=True).ffill()\n",
    "playlist[\"name\"]"
   ]
  },
  {
   "cell_type": "code",
   "execution_count": 358,
   "metadata": {},
   "outputs": [
    {
     "data": {
      "text/html": [
       "<div>\n",
       "<style scoped>\n",
       "    .dataframe tbody tr th:only-of-type {\n",
       "        vertical-align: middle;\n",
       "    }\n",
       "\n",
       "    .dataframe tbody tr th {\n",
       "        vertical-align: top;\n",
       "    }\n",
       "\n",
       "    .dataframe thead th {\n",
       "        text-align: right;\n",
       "    }\n",
       "</style>\n",
       "<table border=\"1\" class=\"dataframe\">\n",
       "  <thead>\n",
       "    <tr style=\"text-align: right;\">\n",
       "      <th></th>\n",
       "      <th>name</th>\n",
       "      <th>lastModifiedDate</th>\n",
       "      <th>trackName</th>\n",
       "      <th>artistName</th>\n",
       "      <th>albumName</th>\n",
       "      <th>addedDate</th>\n",
       "    </tr>\n",
       "  </thead>\n",
       "  <tbody>\n",
       "    <tr>\n",
       "      <th>0</th>\n",
       "      <td>to ji ji</td>\n",
       "      <td>2024-03-29</td>\n",
       "      <td>Hello</td>\n",
       "      <td>J. Cole</td>\n",
       "      <td>2014 Forest Hills Drive</td>\n",
       "      <td>2024-03-29</td>\n",
       "    </tr>\n",
       "    <tr>\n",
       "      <th>1</th>\n",
       "      <td>to ji ji</td>\n",
       "      <td>NaN</td>\n",
       "      <td>Baby</td>\n",
       "      <td>Summer Walker</td>\n",
       "      <td>Last Day Of Summer</td>\n",
       "      <td>2024-03-29</td>\n",
       "    </tr>\n",
       "    <tr>\n",
       "      <th>2</th>\n",
       "      <td>to ji ji</td>\n",
       "      <td>NaN</td>\n",
       "      <td>I Am</td>\n",
       "      <td>Jorja Smith</td>\n",
       "      <td>Black Panther The Album Music From And Inspire...</td>\n",
       "      <td>2024-03-29</td>\n",
       "    </tr>\n",
       "    <tr>\n",
       "      <th>3</th>\n",
       "      <td>to ji ji</td>\n",
       "      <td>NaN</td>\n",
       "      <td>Mad Over You</td>\n",
       "      <td>Runtown</td>\n",
       "      <td>Mad Over You</td>\n",
       "      <td>2024-03-29</td>\n",
       "    </tr>\n",
       "    <tr>\n",
       "      <th>4</th>\n",
       "      <td>to ji ji</td>\n",
       "      <td>NaN</td>\n",
       "      <td>You (feat. Travis Scott)</td>\n",
       "      <td>Don Toliver</td>\n",
       "      <td>Life of a DON</td>\n",
       "      <td>2024-03-29</td>\n",
       "    </tr>\n",
       "    <tr>\n",
       "      <th>...</th>\n",
       "      <td>...</td>\n",
       "      <td>...</td>\n",
       "      <td>...</td>\n",
       "      <td>...</td>\n",
       "      <td>...</td>\n",
       "      <td>...</td>\n",
       "    </tr>\n",
       "    <tr>\n",
       "      <th>6172</th>\n",
       "      <td>All songs</td>\n",
       "      <td>NaN</td>\n",
       "      <td>À la folie</td>\n",
       "      <td>Booba</td>\n",
       "      <td>Trône</td>\n",
       "      <td>2021-11-18</td>\n",
       "    </tr>\n",
       "    <tr>\n",
       "      <th>6173</th>\n",
       "      <td>All songs</td>\n",
       "      <td>NaN</td>\n",
       "      <td>Ça va aller</td>\n",
       "      <td>La Synesia</td>\n",
       "      <td>Conquête du trône</td>\n",
       "      <td>2021-11-18</td>\n",
       "    </tr>\n",
       "    <tr>\n",
       "      <th>6174</th>\n",
       "      <td>All songs</td>\n",
       "      <td>NaN</td>\n",
       "      <td>École</td>\n",
       "      <td>Fally Ipupa</td>\n",
       "      <td>Control</td>\n",
       "      <td>2021-11-18</td>\n",
       "    </tr>\n",
       "    <tr>\n",
       "      <th>6175</th>\n",
       "      <td>All songs</td>\n",
       "      <td>NaN</td>\n",
       "      <td>“Caterpillars 1st” (INTRO)</td>\n",
       "      <td>Ne-Yo</td>\n",
       "      <td>GOOD MAN</td>\n",
       "      <td>2021-11-18</td>\n",
       "    </tr>\n",
       "    <tr>\n",
       "      <th>6176</th>\n",
       "      <td>All songs</td>\n",
       "      <td>NaN</td>\n",
       "      <td>“The Struggle…” (Interlude)</td>\n",
       "      <td>Ne-Yo</td>\n",
       "      <td>GOOD MAN</td>\n",
       "      <td>2021-11-18</td>\n",
       "    </tr>\n",
       "  </tbody>\n",
       "</table>\n",
       "<p>6177 rows × 6 columns</p>\n",
       "</div>"
      ],
      "text/plain": [
       "           name lastModifiedDate                    trackName     artistName  \\\n",
       "0      to ji ji       2024-03-29                        Hello        J. Cole   \n",
       "1      to ji ji              NaN                         Baby  Summer Walker   \n",
       "2      to ji ji              NaN                         I Am    Jorja Smith   \n",
       "3      to ji ji              NaN                 Mad Over You        Runtown   \n",
       "4      to ji ji              NaN     You (feat. Travis Scott)    Don Toliver   \n",
       "...         ...              ...                          ...            ...   \n",
       "6172  All songs              NaN                   À la folie          Booba   \n",
       "6173  All songs              NaN                  Ça va aller     La Synesia   \n",
       "6174  All songs              NaN                        École    Fally Ipupa   \n",
       "6175  All songs              NaN   “Caterpillars 1st” (INTRO)          Ne-Yo   \n",
       "6176  All songs              NaN  “The Struggle…” (Interlude)          Ne-Yo   \n",
       "\n",
       "                                              albumName   addedDate  \n",
       "0                               2014 Forest Hills Drive  2024-03-29  \n",
       "1                                    Last Day Of Summer  2024-03-29  \n",
       "2     Black Panther The Album Music From And Inspire...  2024-03-29  \n",
       "3                                          Mad Over You  2024-03-29  \n",
       "4                                         Life of a DON  2024-03-29  \n",
       "...                                                 ...         ...  \n",
       "6172                                              Trône  2021-11-18  \n",
       "6173                                  Conquête du trône  2021-11-18  \n",
       "6174                                            Control  2021-11-18  \n",
       "6175                                           GOOD MAN  2021-11-18  \n",
       "6176                                           GOOD MAN  2021-11-18  \n",
       "\n",
       "[6177 rows x 6 columns]"
      ]
     },
     "execution_count": 358,
     "metadata": {},
     "output_type": "execute_result"
    }
   ],
   "source": [
    "playlist"
   ]
  },
  {
   "cell_type": "code",
   "execution_count": 359,
   "metadata": {},
   "outputs": [
    {
     "data": {
      "text/plain": [
       "array(['to ji ji', 'combination', 'rnb belters',\n",
       "       'My 2023 Playlist in a Bottle', 'you', 'are we in the 70s?',\n",
       "       'chill study', 'en boucle', 'classic study', 'mac inspired',\n",
       "       'bryson inspired', 'ig story songs', 'in the gym',\n",
       "       'get those gains', 'the don', 'rema we wanna partyyy', 'big mike',\n",
       "       'jhené', 'pj', 'billie eyelash', 'have some juice', 'mac ayres',\n",
       "       'it’s your lucky daye', 'lil bit of neyo n usher',\n",
       "       'barbz stand tf up!', 'harlow therapy', 'santan archives',\n",
       "       'mr masego', 'frenchie', 'chill uk rap favs', 'afrobeats',\n",
       "       'bashment/dancehall', 'cure your blues', 'rhythm and blues',\n",
       "       'neo-soul', 'rock undertones', 'juanita señorita',\n",
       "       'she’s feeling house', 'pass me a mf shot', 'laid back vol. I',\n",
       "       'T21 part 1', 'you need this', 'a fine selection',\n",
       "       'i feel like silk', 'dopamine n serotonin', \"im my mother's child\",\n",
       "       'that new new', 'T21 main', 'rainy days', 'move your body',\n",
       "       'regulars', 'laid back vol. II', 'let’s take it back',\n",
       "       'main character', 'don’t tell my mum',\n",
       "       'reminiscing those club nights', 'turn up¿',\n",
       "       'goodnight, sleep tight', 'sunshine and vibes', 'teenage fever',\n",
       "       'All songs'], dtype=object)"
      ]
     },
     "execution_count": 359,
     "metadata": {},
     "output_type": "execute_result"
    }
   ],
   "source": [
    "#List of playlists\n",
    "playlist[\"name\"].unique()"
   ]
  },
  {
   "cell_type": "code",
   "execution_count": 360,
   "metadata": {},
   "outputs": [
    {
     "data": {
      "text/plain": [
       "61"
      ]
     },
     "execution_count": 360,
     "metadata": {},
     "output_type": "execute_result"
    }
   ],
   "source": [
    "#Number of unique playlists\n",
    "playlist[\"name\"].nunique()"
   ]
  },
  {
   "cell_type": "code",
   "execution_count": 361,
   "metadata": {},
   "outputs": [
    {
     "name": "stderr",
     "output_type": "stream",
     "text": [
      "/var/folders/hh/xj5f9jp9389043d0n5sb2q440000gn/T/ipykernel_70951/991501811.py:2: FutureWarning: pandas.value_counts is deprecated and will be removed in a future version. Use pd.Series(obj).value_counts() instead.\n",
      "  pd.value_counts(playlist[\"name\"])\n"
     ]
    },
    {
     "data": {
      "text/plain": [
       "name\n",
       "All songs                        2003\n",
       "rhythm and blues                  366\n",
       "regulars                          269\n",
       "teenage fever                     227\n",
       "reminiscing those club nights     204\n",
       "                                 ... \n",
       "bryson inspired                     9\n",
       "mac inspired                        9\n",
       "My 2023 Playlist in a Bottle        9\n",
       "that new new                        8\n",
       "are we in the 70s?                  7\n",
       "Name: count, Length: 61, dtype: int64"
      ]
     },
     "execution_count": 361,
     "metadata": {},
     "output_type": "execute_result"
    }
   ],
   "source": [
    "#No. of songs in each playlist\n",
    "pd.value_counts(playlist[\"name\"])"
   ]
  },
  {
   "cell_type": "code",
   "execution_count": 362,
   "metadata": {},
   "outputs": [
    {
     "name": "stderr",
     "output_type": "stream",
     "text": [
      "/var/folders/hh/xj5f9jp9389043d0n5sb2q440000gn/T/ipykernel_70951/3305276098.py:2: FutureWarning: pandas.value_counts is deprecated and will be removed in a future version. Use pd.Series(obj).value_counts() instead.\n",
      "  pd.value_counts(playlist[\"name\"]).plot(kind=\"bar\", color=\"purple\", fontsize=7)\n"
     ]
    },
    {
     "data": {
      "text/plain": [
       "Text(0.5, 0, 'Playlist Name')"
      ]
     },
     "execution_count": 362,
     "metadata": {},
     "output_type": "execute_result"
    },
    {
     "data": {
      "image/png": "[encoded data removed]",
      "text/plain": [
       "<Figure size 640x480 with 1 Axes>"
      ]
     },
     "metadata": {},
     "output_type": "display_data"
    }
   ],
   "source": [
    "#Bar chart\n",
    "pd.value_counts(playlist[\"name\"]).plot(kind=\"bar\", color=\"purple\", fontsize=7)\n",
    "figsize=(100,100)\n",
    "plt.xticks(rotation=45, ha=\"right\")\n",
    "plt.title(\"Count of Songs per Playlist\")\n",
    "plt.ylabel(\"Song Count\")\n",
    "plt.xlabel(\"Playlist Name\")"
   ]
  }
 ],
 "metadata": {
  "kernelspec": {
   "display_name": "dashy",
   "language": "python",
   "name": "python3"
  },
  "language_info": {
   "codemirror_mode": {
    "name": "ipython",
    "version": 3
   },
   "file_extension": ".py",
   "mimetype": "text/x-python",
   "name": "python",
   "nbconvert_exporter": "python",
   "pygments_lexer": "ipython3",
   "version": "3.12.3"
  }
 },
 "nbformat": 4,
 "nbformat_minor": 2
}
